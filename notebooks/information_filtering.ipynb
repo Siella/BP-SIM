{
 "cells": [
  {
   "cell_type": "markdown",
   "id": "fa923f77",
   "metadata": {},
   "source": [
    "## Imports"
   ]
  },
  {
   "cell_type": "code",
   "execution_count": 1,
   "id": "ccafad64",
   "metadata": {},
   "outputs": [],
   "source": [
    "import numpy as np\n",
    "import pandas as pd\n",
    "import matplotlib.pyplot as plt\n",
    "\n",
    "import os, sys"
   ]
  },
  {
   "cell_type": "code",
   "execution_count": 2,
   "id": "bf13c44a",
   "metadata": {},
   "outputs": [],
   "source": [
    "sys.path.insert(0, os.getcwd()[:os.getcwd().rfind('\\\\')])\n",
    "os.chdir(sys.path[0])"
   ]
  },
  {
   "cell_type": "code",
   "execution_count": 3,
   "id": "fb57ba7f",
   "metadata": {},
   "outputs": [],
   "source": [
    "from scripts import Patient, Simulator, Filter\n",
    "from scripts import base_rule, sd_rule, arv_rule"
   ]
  },
  {
   "cell_type": "markdown",
   "id": "b9e8ccb6",
   "metadata": {},
   "source": [
    "## Data"
   ]
  },
  {
   "cell_type": "code",
   "execution_count": 4,
   "id": "ca188599",
   "metadata": {},
   "outputs": [
    {
     "data": {
      "text/html": [
       "<div>\n",
       "<style scoped>\n",
       "    .dataframe tbody tr th:only-of-type {\n",
       "        vertical-align: middle;\n",
       "    }\n",
       "\n",
       "    .dataframe tbody tr th {\n",
       "        vertical-align: top;\n",
       "    }\n",
       "\n",
       "    .dataframe thead th {\n",
       "        text-align: right;\n",
       "    }\n",
       "</style>\n",
       "<table border=\"1\" class=\"dataframe\">\n",
       "  <thead>\n",
       "    <tr style=\"text-align: right;\">\n",
       "      <th></th>\n",
       "      <th>patient_id</th>\n",
       "      <th>doctor_id</th>\n",
       "      <th>MeasurementDateStart</th>\n",
       "      <th>MeasurementDateEnd</th>\n",
       "      <th>SystolicPressureMax</th>\n",
       "      <th>SystolicPressureMean</th>\n",
       "      <th>SystolicPressureMin</th>\n",
       "      <th>DiastolicPressureMax</th>\n",
       "      <th>DiastolicPressureMean</th>\n",
       "      <th>DiastolicPressureMin</th>\n",
       "      <th>PulseMax</th>\n",
       "      <th>PulseMean</th>\n",
       "      <th>PulseMin</th>\n",
       "    </tr>\n",
       "  </thead>\n",
       "  <tbody>\n",
       "    <tr>\n",
       "      <th>0</th>\n",
       "      <td>194809</td>\n",
       "      <td>U6VN842K1A</td>\n",
       "      <td>2020-12-07T11:33:00+00:00</td>\n",
       "      <td>2020-12-07T11:33:00+00:00</td>\n",
       "      <td>138.0</td>\n",
       "      <td>138.0</td>\n",
       "      <td>138.0</td>\n",
       "      <td>76.0</td>\n",
       "      <td>76.0</td>\n",
       "      <td>76.0</td>\n",
       "      <td>52.0</td>\n",
       "      <td>52.0</td>\n",
       "      <td>52.0</td>\n",
       "    </tr>\n",
       "    <tr>\n",
       "      <th>1</th>\n",
       "      <td>194809</td>\n",
       "      <td>U6VN842K1A</td>\n",
       "      <td>2020-12-08T06:21:00+00:00</td>\n",
       "      <td>2020-12-08T06:21:00+00:00</td>\n",
       "      <td>122.0</td>\n",
       "      <td>122.0</td>\n",
       "      <td>122.0</td>\n",
       "      <td>65.0</td>\n",
       "      <td>65.0</td>\n",
       "      <td>65.0</td>\n",
       "      <td>51.0</td>\n",
       "      <td>51.0</td>\n",
       "      <td>51.0</td>\n",
       "    </tr>\n",
       "    <tr>\n",
       "      <th>2</th>\n",
       "      <td>194809</td>\n",
       "      <td>U6VN842K1A</td>\n",
       "      <td>2020-12-09T15:40:00+00:00</td>\n",
       "      <td>2020-12-09T15:40:00+00:00</td>\n",
       "      <td>110.0</td>\n",
       "      <td>110.0</td>\n",
       "      <td>110.0</td>\n",
       "      <td>55.0</td>\n",
       "      <td>55.0</td>\n",
       "      <td>55.0</td>\n",
       "      <td>56.0</td>\n",
       "      <td>56.0</td>\n",
       "      <td>56.0</td>\n",
       "    </tr>\n",
       "    <tr>\n",
       "      <th>3</th>\n",
       "      <td>194809</td>\n",
       "      <td>U6VN842K1A</td>\n",
       "      <td>2020-12-10T06:24:00+00:00</td>\n",
       "      <td>2020-12-10T06:24:00+00:00</td>\n",
       "      <td>110.0</td>\n",
       "      <td>110.0</td>\n",
       "      <td>110.0</td>\n",
       "      <td>60.0</td>\n",
       "      <td>60.0</td>\n",
       "      <td>60.0</td>\n",
       "      <td>52.0</td>\n",
       "      <td>52.0</td>\n",
       "      <td>52.0</td>\n",
       "    </tr>\n",
       "    <tr>\n",
       "      <th>4</th>\n",
       "      <td>194809</td>\n",
       "      <td>U6VN842K1A</td>\n",
       "      <td>2020-12-11T06:22:00+00:00</td>\n",
       "      <td>2020-12-11T06:22:00+00:00</td>\n",
       "      <td>102.0</td>\n",
       "      <td>102.0</td>\n",
       "      <td>102.0</td>\n",
       "      <td>55.0</td>\n",
       "      <td>55.0</td>\n",
       "      <td>55.0</td>\n",
       "      <td>51.0</td>\n",
       "      <td>51.0</td>\n",
       "      <td>51.0</td>\n",
       "    </tr>\n",
       "  </tbody>\n",
       "</table>\n",
       "</div>"
      ],
      "text/plain": [
       "   patient_id   doctor_id       MeasurementDateStart  \\\n",
       "0      194809  U6VN842K1A  2020-12-07T11:33:00+00:00   \n",
       "1      194809  U6VN842K1A  2020-12-08T06:21:00+00:00   \n",
       "2      194809  U6VN842K1A  2020-12-09T15:40:00+00:00   \n",
       "3      194809  U6VN842K1A  2020-12-10T06:24:00+00:00   \n",
       "4      194809  U6VN842K1A  2020-12-11T06:22:00+00:00   \n",
       "\n",
       "          MeasurementDateEnd  SystolicPressureMax  SystolicPressureMean  \\\n",
       "0  2020-12-07T11:33:00+00:00                138.0                 138.0   \n",
       "1  2020-12-08T06:21:00+00:00                122.0                 122.0   \n",
       "2  2020-12-09T15:40:00+00:00                110.0                 110.0   \n",
       "3  2020-12-10T06:24:00+00:00                110.0                 110.0   \n",
       "4  2020-12-11T06:22:00+00:00                102.0                 102.0   \n",
       "\n",
       "   SystolicPressureMin  DiastolicPressureMax  DiastolicPressureMean  \\\n",
       "0                138.0                  76.0                   76.0   \n",
       "1                122.0                  65.0                   65.0   \n",
       "2                110.0                  55.0                   55.0   \n",
       "3                110.0                  60.0                   60.0   \n",
       "4                102.0                  55.0                   55.0   \n",
       "\n",
       "   DiastolicPressureMin  PulseMax  PulseMean  PulseMin  \n",
       "0                  76.0      52.0       52.0      52.0  \n",
       "1                  65.0      51.0       51.0      51.0  \n",
       "2                  55.0      56.0       56.0      56.0  \n",
       "3                  60.0      52.0       52.0      52.0  \n",
       "4                  55.0      51.0       51.0      51.0  "
      ]
     },
     "execution_count": 4,
     "metadata": {},
     "output_type": "execute_result"
    }
   ],
   "source": [
    "df = pd.read_csv('data/diary_param.csv', sep='\\t')\n",
    "df.head()"
   ]
  },
  {
   "cell_type": "code",
   "execution_count": 5,
   "id": "0b1784bc",
   "metadata": {},
   "outputs": [
    {
     "name": "stdout",
     "output_type": "stream",
     "text": [
      "There are 140 patients.\n"
     ]
    }
   ],
   "source": [
    "patients = df.patient_id.unique()\n",
    "print(f'There are {len(patients)} patients.')"
   ]
  },
  {
   "cell_type": "markdown",
   "id": "ec0d5cbe",
   "metadata": {},
   "source": [
    "## Experiments"
   ]
  },
  {
   "cell_type": "markdown",
   "id": "5f8d1294",
   "metadata": {},
   "source": [
    "### 1 patient 1 simulation run"
   ]
  },
  {
   "cell_type": "code",
   "execution_count": 6,
   "id": "dcd0e558",
   "metadata": {},
   "outputs": [],
   "source": [
    "pat = patients[0]\n",
    "df_1 = df[df.patient_id == pat]\n",
    "df_1.to_csv(f'data/patient_{pat}', sep='\\t', index=False)"
   ]
  },
  {
   "cell_type": "code",
   "execution_count": 7,
   "id": "c5415bde",
   "metadata": {},
   "outputs": [],
   "source": [
    "p = Patient(f'data/patient_{pat}')"
   ]
  },
  {
   "cell_type": "code",
   "execution_count": 8,
   "id": "319950d0",
   "metadata": {},
   "outputs": [],
   "source": [
    "n_days = 30\n",
    "sim = Simulator(p)\n",
    "sim.run_simulation(n_days)"
   ]
  },
  {
   "cell_type": "code",
   "execution_count": 9,
   "id": "5de5d79c",
   "metadata": {},
   "outputs": [],
   "source": [
    "os.remove(f'data/patient_{pat}')  # don't need it anymore"
   ]
  },
  {
   "cell_type": "code",
   "execution_count": 10,
   "id": "9ee7ad94",
   "metadata": {},
   "outputs": [
    {
     "name": "stdout",
     "output_type": "stream",
     "text": [
      "110 62\n",
      "103 53\n",
      "93 70\n",
      "124 81\n",
      "146 96\n",
      "-1 -1\n",
      "94 68\n",
      "115 58\n",
      "110 67\n",
      "128 90\n",
      "133 88\n",
      "138 92\n",
      "132 72\n",
      "122 80\n",
      "106 80\n",
      "-1 -1\n",
      "99 47\n",
      "124 68\n",
      "132 85\n",
      "92 69\n",
      "97 72\n",
      "119 59\n",
      "106 66\n",
      "-1 -1\n",
      "95 71\n",
      "129 82\n",
      "115 65\n",
      "129 87\n",
      "138 86\n",
      "116 73\n"
     ]
    }
   ],
   "source": [
    "for meas in sim.measurements:\n",
    "    print(meas.sbp, meas.dbp)  # -1 is a missing measurement"
   ]
  },
  {
   "cell_type": "code",
   "execution_count": 11,
   "id": "8d25d727",
   "metadata": {},
   "outputs": [],
   "source": [
    "# it's cool that when sbp (dbp) is -1, the map will be -1 :)\n",
    "map_values = np.array([(meas.sbp + 2 * meas.dbp) / 3 for meas in sim.measurements])  # MAP is the mean arterial pressure"
   ]
  },
  {
   "cell_type": "code",
   "execution_count": 12,
   "id": "31d52870",
   "metadata": {},
   "outputs": [],
   "source": [
    "f = Filter([\n",
    "            base_rule,\n",
    "            sd_rule,\n",
    "            arv_rule,\n",
    "           ])"
   ]
  },
  {
   "cell_type": "code",
   "execution_count": 13,
   "id": "eea96c10",
   "metadata": {},
   "outputs": [],
   "source": [
    "f.fit(sim.measurements)\n",
    "results = f.apply(sim.measurements)[:]"
   ]
  },
  {
   "cell_type": "code",
   "execution_count": 14,
   "id": "de8ce740",
   "metadata": {},
   "outputs": [],
   "source": [
    "def filter_missing(meas_array, apply_array):\n",
    "    return np.where(meas_array == -1, None, apply_array)  # -1 is a missing measurement"
   ]
  },
  {
   "cell_type": "code",
   "execution_count": 15,
   "id": "1da4dc2a",
   "metadata": {},
   "outputs": [],
   "source": [
    "filtered_vals = filter_missing(map_values, map_values)"
   ]
  },
  {
   "cell_type": "code",
   "execution_count": 16,
   "id": "0d0ce07b",
   "metadata": {},
   "outputs": [],
   "source": [
    "def plot_meas_series(vals, checks, title=None):\n",
    "    fig, ax = plt.subplots(figsize=(10,4))\n",
    "    ax.plot(vals, 'o--', markersize='4')\n",
    "    ax.plot(np.where(checks == True, None, vals), 'x', markersize='6', label='alerts')\n",
    "    ax.set_xlabel('measurement number')\n",
    "    ax.set_ylabel('MAP')\n",
    "    ax.set_title(title)\n",
    "    ax.legend();\n",
    "    ax.spines['top'].set_visible(False)\n",
    "    ax.spines['left'].set_visible(False)\n",
    "    ax.spines['right'].set_visible(False)"
   ]
  },
  {
   "cell_type": "code",
   "execution_count": 17,
   "id": "aa476ab0",
   "metadata": {},
   "outputs": [
    {
     "data": {
      "image/png": "[encoded data removed]",
      "text/plain": [
       "<Figure size 720x288 with 1 Axes>"
      ]
     },
     "metadata": {
      "needs_background": "light"
     },
     "output_type": "display_data"
    },
    {
     "data": {
      "image/png": "[encoded data removed]",
      "text/plain": [
       "<Figure size 720x288 with 1 Axes>"
      ]
     },
     "metadata": {
      "needs_background": "light"
     },
     "output_type": "display_data"
    },
    {
     "data": {
      "image/png": "[encoded data removed]",
      "text/plain": [
       "<Figure size 720x288 with 1 Axes>"
      ]
     },
     "metadata": {
      "needs_background": "light"
     },
     "output_type": "display_data"
    }
   ],
   "source": [
    "for checks, rule in zip(results, ['Basic rules', 'Mean-based rule', 'ARV-based rule']):\n",
    "    plot_meas_series(filtered_vals, filter_missing(map_values, checks), rule)"
   ]
  },
  {
   "cell_type": "markdown",
   "id": "be180a7a",
   "metadata": {},
   "source": [
    "### 1 patient many simulation runs"
   ]
  },
  {
   "cell_type": "code",
   "execution_count": 18,
   "id": "e55d0ddd",
   "metadata": {},
   "outputs": [],
   "source": [
    "pat = 194937  # patients[0]\n",
    "df_1 = df[df.patient_id == pat]\n",
    "df_1.to_csv(f'data/patient_{pat}', sep='\\t', index=False)"
   ]
  },
  {
   "cell_type": "code",
   "execution_count": 19,
   "id": "85a9e460",
   "metadata": {},
   "outputs": [],
   "source": [
    "p = Patient(f'data/patient_{pat}')"
   ]
  },
  {
   "cell_type": "code",
   "execution_count": 20,
   "id": "d0510436",
   "metadata": {},
   "outputs": [
    {
     "name": "stdout",
     "output_type": "stream",
     "text": [
      "Wall time: 12 s\n"
     ]
    }
   ],
   "source": [
    "%%time\n",
    "n_days = 30\n",
    "sim = Simulator(p)\n",
    "\n",
    "sim_runs = []\n",
    "for _ in range(100):\n",
    "    sim.run_simulation(n_days)\n",
    "    sim_runs.append(sim.measurements)\n",
    "    sim.reset_simulation()"
   ]
  },
  {
   "cell_type": "code",
   "execution_count": 21,
   "id": "f47c3f5d",
   "metadata": {},
   "outputs": [],
   "source": [
    "os.remove(f'data/patient_{pat}')  # don't need it anymore"
   ]
  },
  {
   "cell_type": "code",
   "execution_count": 22,
   "id": "3d7a71df",
   "metadata": {},
   "outputs": [],
   "source": [
    "checks = []\n",
    "for sim_meas in sim_runs:\n",
    "    f = Filter([\n",
    "                base_rule,\n",
    "                sd_rule,\n",
    "                arv_rule,\n",
    "               ])\n",
    "    f.fit(sim_meas)\n",
    "    checks.append(dict(zip(['base', 'sd', 'arv'], f.apply(sim_meas))))"
   ]
  },
  {
   "cell_type": "code",
   "execution_count": 23,
   "id": "cec4282f",
   "metadata": {},
   "outputs": [],
   "source": [
    "base_load, sd_load, arv_load = [], [], []\n",
    "\n",
    "for i, check in enumerate(checks):\n",
    "    map_values = np.array([(meas.sbp + 2 * meas.dbp) / 3 for meas in sim_runs[i]])\n",
    "    meas_cnt = (map_values != -1).sum()  # without missing\n",
    "    base_load.append((filter_missing(map_values, check['base']) == False).sum() / meas_cnt)\n",
    "    sd_load.append((filter_missing(map_values, check['sd']) == False).sum() / meas_cnt)\n",
    "    arv_load.append((filter_missing(map_values, check['arv']) == False).sum() / meas_cnt)"
   ]
  },
  {
   "cell_type": "code",
   "execution_count": 24,
   "id": "31828b1f",
   "metadata": {},
   "outputs": [
    {
     "data": {
      "image/png": "[encoded data removed]",
      "text/plain": [
       "<Figure size 432x288 with 1 Axes>"
      ]
     },
     "metadata": {
      "needs_background": "light"
     },
     "output_type": "display_data"
    }
   ],
   "source": [
    "plt.plot(base_load, sd_load, '.')\n",
    "plt.plot([0,1], [0,1], '-')\n",
    "plt.xlabel('Base rule')\n",
    "plt.ylabel('Mean-based rule');"
   ]
  },
  {
   "cell_type": "code",
   "execution_count": 25,
   "id": "0eb86c63",
   "metadata": {},
   "outputs": [
    {
     "data": {
      "image/png": "[encoded data removed]",
      "text/plain": [
       "<Figure size 432x288 with 1 Axes>"
      ]
     },
     "metadata": {
      "needs_background": "light"
     },
     "output_type": "display_data"
    }
   ],
   "source": [
    "plt.plot(base_load, arv_load, '.')\n",
    "plt.plot([0,1], [0,1], '-')\n",
    "plt.xlabel('Base rule')\n",
    "plt.ylabel('Arv-based rule');"
   ]
  },
  {
   "cell_type": "code",
   "execution_count": null,
   "id": "e33b39d9",
   "metadata": {},
   "outputs": [],
   "source": []
  }
 ],
 "metadata": {
  "kernelspec": {
   "display_name": "Python 3",
   "language": "python",
   "name": "python3"
  },
  "language_info": {
   "codemirror_mode": {
    "name": "ipython",
    "version": 3
   },
   "file_extension": ".py",
   "mimetype": "text/x-python",
   "name": "python",
   "nbconvert_exporter": "python",
   "pygments_lexer": "ipython3",
   "version": "3.8.8"
  }
 },
 "nbformat": 4,
 "nbformat_minor": 5
}
